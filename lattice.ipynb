{
 "cells": [
  {
   "cell_type": "code",
   "execution_count": 4,
   "id": "35be7366",
   "metadata": {},
   "outputs": [
    {
     "name": "stdout",
     "output_type": "stream",
     "text": [
      "Les vecteurs de base du réseau direct sont \n",
      "   a = [4.09362783 0.         0.        ] \n",
      "   b = [2.04681392 3.5451857  0.        ] \n",
      "   c = [2.04681392 1.18172857 3.34243313]\n",
      "\n",
      "Les vecteurs de base du réseau réciproque sont \n",
      "   a* = [ 1.5348697  -0.88615743 -0.62660793] \n",
      "   b* = [ 0.          1.77231486 -0.62660793] \n",
      "   c* = [0.         0.         1.87982379]\n",
      "\n",
      "Sa maille est cubique.\n",
      "Son système cristallin est cubique.\n",
      "Son groupe ponctuel est -43m.\n"
     ]
    }
   ],
   "source": [
    "from numpy import *\n",
    "from pymatgen.ext.matproj import MPRester\n",
    "from pymatgen.core import *\n",
    "from pymatgen.symmetry.analyzer import SpacegroupAnalyzer\n",
    "\n",
    "with MPRester(\"VmJsz9RpLnefKgXu\") as m: \n",
    "    structure = m.get_structure_by_material_id(\"mp-567636\")\n",
    "    structure.to(filename=\"VFeSb.cif\")\n",
    "    \n",
    "analyzer = SpacegroupAnalyzer(structure)\n",
    "    \n",
    "#les vecteurs de base du reseau direct\n",
    "par = structure.lattice\n",
    "veca = par.a * array([1, 0, 0])  #le vecteur a\n",
    "vecb = par.b * array([cos(pi*par.gamma/180),sin(pi*par.gamma/180), 0]) #le vecteur b\n",
    "c1 = par.c*cos(pi*par.beta/180)                                                      #\n",
    "c2 = (par.c*cos(pi*par.alpha/180) - c1*cos(pi*par.gamma/180))/sin(pi*par.gamma/180)  # résolution d'un système pour trouver le vecteur c\n",
    "c3 = sqrt(par.c**2-c1**2-c2**2)                                                      #\n",
    "vecc = array([c1,c2,c3])\n",
    "\n",
    "#les vecteurs de base du reseau réciproque\n",
    "vol = par.volume\n",
    "vecar = 2*pi/vol*cross(vecb,vecc)\n",
    "vecbr = 2*pi/vol*cross(vecc,veca)\n",
    "veccr = 2*pi/vol*cross(veca,vecb)\n",
    "\n",
    "#traduction\n",
    "trad = {\"cubic\":\"cubique\", \"triclinic\":\"triclinique\", \"monoclinic\":\"monoclinique\", \"orthorombic\":\"orthorhombique\", \"tetragonal\":\"tétragonal\", \"trigonal\":\"trigonal\", \"hexagonal\":\"hexagonal\"}\n",
    "crisyst = trad[analyzer.get_crystal_system()]\n",
    "maille = trad[analyzer.get_lattice_type()]\n",
    "\n",
    "print(\"Les vecteurs de base du réseau direct sont \\n   a = {} \\n   b = {} \\n   c = {}\\n\".format(veca,vecb,vecc))\n",
    "print(\"Les vecteurs de base du réseau réciproque sont \\n   a* = {} \\n   b* = {} \\n   c* = {}\\n\".format(vecar,vecbr,veccr))\n",
    "print(\"Sa maille est {}.\".format(maille))\n",
    "print(\"Son système cristallin est {}.\".format(crisyst))\n",
    "print(\"Son groupe ponctuel est {}.\".format(analyzer.get_point_group_symbol()))"
   ]
  },
  {
   "cell_type": "code",
   "execution_count": null,
   "id": "f26fea54",
   "metadata": {},
   "outputs": [],
   "source": []
  }
 ],
 "metadata": {
  "kernelspec": {
   "display_name": "Python 3",
   "language": "python",
   "name": "python3"
  },
  "language_info": {
   "codemirror_mode": {
    "name": "ipython",
    "version": 3
   },
   "file_extension": ".py",
   "mimetype": "text/x-python",
   "name": "python",
   "nbconvert_exporter": "python",
   "pygments_lexer": "ipython3",
   "version": "3.6.8"
  }
 },
 "nbformat": 4,
 "nbformat_minor": 5
}
