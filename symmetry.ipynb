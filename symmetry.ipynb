{
 "cells": [
  {
   "cell_type": "markdown",
   "id": "bb973652",
   "metadata": {},
   "source": [
    "<h3>Import des différents modules et récupération de la structure</h3>"
   ]
  },
  {
   "cell_type": "code",
   "execution_count": 10,
   "id": "632e9c48",
   "metadata": {},
   "outputs": [],
   "source": [
    "from numpy import *\n",
    "from pymatgen.ext.matproj import MPRester\n",
    "from pymatgen.core import *\n",
    "from pymatgen.symmetry.analyzer import SpacegroupAnalyzer\n",
    "from jupyter_jsmol.pymatgen import quick_view\n",
    "from ipywidgets import Layout, widgets, interact\n",
    "\n",
    "with MPRester(\"VmJsz9RpLnefKgXu\") as m: \n",
    "    structure = m.get_structure_by_material_id(\"mp-567636\")\n",
    "    structure.to(filename=\"VFeSb.cif\")\n"
   ]
  },
  {
   "cell_type": "code",
   "execution_count": 23,
   "id": "7d684e36",
   "metadata": {
    "scrolled": false
   },
   "outputs": [
    {
     "data": {
      "application/vnd.jupyter.widget-view+json": {
       "model_id": "11dfdfb2924645d0bb955364e86132e3",
       "version_major": 2,
       "version_minor": 0
      },
      "text/plain": [
       "JsmolView(layout=Layout(align_self='stretch', height='400px'))"
      ]
     },
     "metadata": {},
     "output_type": "display_data"
    }
   ],
   "source": [
    "view = quick_view(structure, conventional=True)\n",
    "display(view)"
   ]
  },
  {
   "cell_type": "markdown",
   "id": "1e973584",
   "metadata": {},
   "source": [
    "<h3>Analyse des symétries du cristal et choix des symétries</h3>"
   ]
  },
  {
   "cell_type": "code",
   "execution_count": 44,
   "id": "1646704f",
   "metadata": {},
   "outputs": [],
   "source": [
    "sym = SpacegroupAnalyzer(structure).get_symmetry_operations()\n",
    "\n",
    "# Symétries choisies pour les atomes\n",
    "S1 = sym[7]\n",
    "S2 = sym[10]\n",
    "S3 = sym[3]\n",
    "\n",
    "V = array([0.0, 0.0, 0.0])\n",
    "Fe = array([0.25, 0.25, 0.75])\n",
    "Sb = array([0, 0, 0.5])\n",
    "\n",
    "V_sym = S1.operate(V)\n",
    "Fe_sym = S2.operate(Fe)\n",
    "Sb_sym = S3.operate(Sb)"
   ]
  },
  {
   "cell_type": "markdown",
   "id": "0e12a230",
   "metadata": {},
   "source": [
    "<h3>Symmétrie pour le 1er atome</h3>"
   ]
  },
  {
   "cell_type": "code",
   "execution_count": 45,
   "id": "cad6c9bd",
   "metadata": {},
   "outputs": [
    {
     "name": "stdout",
     "output_type": "stream",
     "text": [
      "L'atome de départ est le V et a comme coordonnées: [0. 0. 0.]\n",
      "\n",
      "On lui applique un plan miroir (z,y,x) : \n",
      "[[0. 0. 1.]\n",
      " [0. 1. 0.]\n",
      " [1. 0. 0.]] * [0. 0. 0.] + [0. 0. 0.]\n",
      "Les coordonnées de l'atome final sont [0. 0. 0.]\n",
      "\n"
     ]
    },
    {
     "data": {
      "application/vnd.jupyter.widget-view+json": {
       "model_id": "d72ef994b3784df2af472fc00556caf7",
       "version_major": 2,
       "version_minor": 0
      },
      "text/plain": [
       "JsmolView(layout=Layout(align_self='stretch', height='400px'))"
      ]
     },
     "metadata": {},
     "output_type": "display_data"
    }
   ],
   "source": [
    "print(\"L'atome de départ est le V et a comme coordonnées: {}\\n\".format(V))\n",
    "print(\"On lui applique un plan miroir (z,y,x) : \")\n",
    "print(S1.rotation_matrix, \"*\", V, '+', S1.translation_vector)\n",
    "print(\"Les coordonnées de l'atome final sont {}\\n\".format(V_sym))\n",
    "v1 = jsm.pymatgen.quick_view(structure,conventional=True)\n",
    "display(v1)\n",
    "v1.script(\"draw symop 8 {atomno=1}\")"
   ]
  },
  {
   "cell_type": "markdown",
   "id": "b75dd35c",
   "metadata": {},
   "source": [
    "<h3>Symmétrie pour le 2e atome</h3>"
   ]
  },
  {
   "cell_type": "code",
   "execution_count": 46,
   "id": "24f2b363",
   "metadata": {},
   "outputs": [
    {
     "name": "stdout",
     "output_type": "stream",
     "text": [
      "L'atome de départ est le Fe et a comme coordonnées: [0.25 0.25 0.75]\n",
      "\n",
      "On lui applique une rotation C3 d'axe [111] (y,z,x) : \n",
      "[[0. 1. 0.]\n",
      " [0. 0. 1.]\n",
      " [1. 0. 0.]] * [0.25 0.25 0.75] + [0. 0. 0.]\n",
      "Les coordonnées de l'atome final sont [0.25 0.75 0.25]\n",
      "\n"
     ]
    },
    {
     "data": {
      "application/vnd.jupyter.widget-view+json": {
       "model_id": "23f310bd288b44ad99381b24bb119673",
       "version_major": 2,
       "version_minor": 0
      },
      "text/plain": [
       "JsmolView(layout=Layout(align_self='stretch', height='400px'))"
      ]
     },
     "metadata": {},
     "output_type": "display_data"
    }
   ],
   "source": [
    "print(\"L'atome de départ est le Fe et a comme coordonnées: {}\\n\".format(Fe))\n",
    "print(\"On lui applique une rotation C3 d'axe [111] (y,z,x) : \")\n",
    "print(S2.rotation_matrix, \"*\", Fe, '+', S2.translation_vector)\n",
    "print(\"Les coordonnées de l'atome final sont {}\\n\".format(Fe_sym))\n",
    "v2 = quick_view(structure,conventional=True)\n",
    "display(v2)\n",
    "v2.script(\"draw symop 11 {atomno=2}\")"
   ]
  },
  {
   "cell_type": "markdown",
   "id": "8d9d765a",
   "metadata": {},
   "source": [
    "<h3>Symmétrie pour le 3e atome</h3>"
   ]
  },
  {
   "cell_type": "code",
   "execution_count": 50,
   "id": "b7f408e7",
   "metadata": {},
   "outputs": [
    {
     "name": "stdout",
     "output_type": "stream",
     "text": [
      "L'atome de départ est le Sb et a comme coordonnées: [0.  0.  0.5]\n",
      "\n",
      "On lui applique une roto-inversion (-x-y-z,x,y) : \n",
      "[[-1. -1. -1.]\n",
      " [ 1.  0.  0.]\n",
      " [ 0.  1.  0.]] * [0.  0.  0.5] + [0. 0. 0.]\n",
      "Les coordonnées de l'atome final sont [-0.5  0.   0. ]\n",
      "\n"
     ]
    },
    {
     "data": {
      "application/vnd.jupyter.widget-view+json": {
       "model_id": "295e1cce64e54dc5aa43ee29b7716003",
       "version_major": 2,
       "version_minor": 0
      },
      "text/plain": [
       "JsmolView(layout=Layout(align_self='stretch', height='400px'))"
      ]
     },
     "metadata": {},
     "output_type": "display_data"
    }
   ],
   "source": [
    "print(\"L'atome de départ est le Sb et a comme coordonnées: {}\\n\".format(Sb))\n",
    "print(\"On lui applique une roto-inversion (-x-y-z,x,y) : \")\n",
    "print(S3.rotation_matrix, \"*\", Sb, '+', S3.translation_vector)\n",
    "print(\"Les coordonnées de l'atome final sont {}\\n\".format(Sb_sym))\n",
    "v3 = quick_view(structure,conventional=True)\n",
    "display(v3)\n",
    "v3.script(\"draw SYMOP 4 {atomno=4}\")"
   ]
  }
 ],
 "metadata": {
  "kernelspec": {
   "display_name": "Python 3",
   "language": "python",
   "name": "python3"
  },
  "language_info": {
   "codemirror_mode": {
    "name": "ipython",
    "version": 3
   },
   "file_extension": ".py",
   "mimetype": "text/x-python",
   "name": "python",
   "nbconvert_exporter": "python",
   "pygments_lexer": "ipython3",
   "version": "3.6.8"
  }
 },
 "nbformat": 4,
 "nbformat_minor": 5
}
